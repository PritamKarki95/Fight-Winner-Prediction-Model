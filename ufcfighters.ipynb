{
 "cells": [
  {
   "cell_type": "code",
   "execution_count": 16,
   "id": "34dcc6fc-6117-4ef7-b282-3080c69b66a2",
   "metadata": {},
   "outputs": [
    {
     "name": "stdout",
     "output_type": "stream",
     "text": [
      "Accuracy: 1.0\n",
      "Prediction for Fighter A: Win with probability 0.24\n",
      "Prediction for Fighter B: Loss with probability 0.07\n"
     ]
    },
    {
     "name": "stderr",
     "output_type": "stream",
     "text": [
      "C:\\Users\\karki\\anaconda3\\Lib\\site-packages\\sklearn\\base.py:493: UserWarning: X does not have valid feature names, but StandardScaler was fitted with feature names\n",
      "  warnings.warn(\n",
      "C:\\Users\\karki\\anaconda3\\Lib\\site-packages\\sklearn\\base.py:493: UserWarning: X does not have valid feature names, but StandardScaler was fitted with feature names\n",
      "  warnings.warn(\n",
      "C:\\Users\\karki\\anaconda3\\Lib\\site-packages\\sklearn\\base.py:493: UserWarning: X does not have valid feature names, but LogisticRegression was fitted with feature names\n",
      "  warnings.warn(\n",
      "C:\\Users\\karki\\anaconda3\\Lib\\site-packages\\sklearn\\base.py:493: UserWarning: X does not have valid feature names, but LogisticRegression was fitted with feature names\n",
      "  warnings.warn(\n"
     ]
    }
   ],
   "source": [
    "import pandas as pd\n",
    "from sklearn.model_selection import train_test_split\n",
    "from sklearn.linear_model import LogisticRegression\n",
    "from sklearn.metrics import accuracy_score, classification_report\n",
    "import numpy as np\n",
    "from sklearn.preprocessing import StandardScaler\n",
    "\n",
    "df = pd.read_csv('statistics.csv')\n",
    "df.drop(columns=['nickname','stance','date_of_birth'], inplace=True)\n",
    "\n",
    "df = df.dropna()\n",
    "\n",
    "df['win'] = df['wins'] > df['losses']\n",
    "\n",
    "X = df[['wins', 'losses', 'height_cm', 'weight_in_kg', 'reach_in_cm', \n",
    "        'significant_strikes_landed_per_minute', 'significant_striking_accuracy',\n",
    "        'significant_strikes_absorbed_per_minute', 'significant_strike_defence',\n",
    "        'average_takedowns_landed_per_15_minutes', 'takedown_accuracy', \n",
    "        'takedown_defense', 'average_submissions_attempted_per_15_minutes']]\n",
    "\n",
    "y = df['win']\n",
    "\n",
    "X_train, X_test, y_train, y_test = train_test_split(X, y, test_size=0.3, random_state=42)\n",
    "\n",
    "model = LogisticRegression()\n",
    "\n",
    "model = LogisticRegression(max_iter=200)\n",
    "\n",
    "model.fit(X_train, y_train)\n",
    "\n",
    "y_pred = model.predict(X_test)\n",
    "\n",
    "print(f\"Accuracy: {accuracy_score(y_test, y_pred)}\")\n",
    "\n",
    "#################################################################################\n",
    "# Enter your stats for Fighter A and Fighter B (dummy values, replace with yours)\n",
    "fighter_a = np.array([[10, 5, 180, 77, 183, 4.5, 65, 3.2, 80, 1.2, 40, 85, 0.3]]) \n",
    "fighter_b = np.array([[8, 6, 178, 80, 185, 3.8, 60, 3.5, 78, 1.0, 38, 80, 0.4]])\n",
    "#################################################################################\n",
    "\n",
    "scaler = StandardScaler()\n",
    "scaler.fit(X_train)\n",
    "\n",
    "fighter_a_scaled = scaler.transform(fighter_a)\n",
    "fighter_b_scaled = scaler.transform(fighter_b)\n",
    "\n",
    "prob_a = model.predict_proba(fighter_a_scaled)[0][1]  \n",
    "prob_b = model.predict_proba(fighter_b_scaled)[0][1]  \n",
    "\n",
    "print(f\"Prediction for Fighter A: {'Win' if prob_a > prob_b else 'Loss'} with probability {prob_a:.2f}\")\n",
    "print(f\"Prediction for Fighter B: {'Win' if prob_b > prob_a else 'Loss'} with probability {prob_b:.2f}\")\n",
    "\n",
    "# I know there is a warning showing up which can be avoided by converting numpy arrays into pandas dataframe but since its a small-\n",
    "# -prediction model there is no need for that, it still provides accurate results"
   ]
  },
  {
   "cell_type": "code",
   "execution_count": null,
   "id": "e07aadfb-7a1c-4e7a-b422-d3534fd2f104",
   "metadata": {},
   "outputs": [],
   "source": []
  }
 ],
 "metadata": {
  "kernelspec": {
   "display_name": "Python [conda env:base] *",
   "language": "python",
   "name": "conda-base-py"
  },
  "language_info": {
   "codemirror_mode": {
    "name": "ipython",
    "version": 3
   },
   "file_extension": ".py",
   "mimetype": "text/x-python",
   "name": "python",
   "nbconvert_exporter": "python",
   "pygments_lexer": "ipython3",
   "version": "3.12.7"
  }
 },
 "nbformat": 4,
 "nbformat_minor": 5
}
